{
 "cells": [
  {
   "cell_type": "code",
   "execution_count": 5,
   "id": "7a0372ae",
   "metadata": {},
   "outputs": [],
   "source": [
    "# Put file path as a string here\n",
    "CIFAR_DIR = ('C:\\\\Users\\\\akkim\\\\Desktop\\\\cifar-10-batches-py\\\\')"
   ]
  },
  {
   "cell_type": "code",
   "execution_count": 6,
   "id": "2b3d7061",
   "metadata": {},
   "outputs": [],
   "source": [
    "#The archive contains the files data_batch_1, data_batch_2, ..., data_batch_5, as well as test_batch. Each of these files is a Python \"pickled\" object produced with cPickle. \n",
    "\n",
    "# ** Load the Data. Use the Code Below to load the data: **\n",
    "\n",
    "def unpickle(file):\n",
    "    import pickle\n",
    "    with open(file, 'rb') as fo:\n",
    "        cifar_dict = pickle.load(fo, encoding='bytes')\n",
    "    return cifar_dict"
   ]
  },
  {
   "cell_type": "code",
   "execution_count": 7,
   "id": "6c1461a3",
   "metadata": {},
   "outputs": [],
   "source": [
    "dirs = ['batches.meta','data_batch_1','data_batch_2','data_batch_3','data_batch_4','data_batch_5','test_batch']"
   ]
  },
  {
   "cell_type": "code",
   "execution_count": 8,
   "id": "4bb6acda",
   "metadata": {},
   "outputs": [],
   "source": [
    "all_data = [0,1,2,3,4,5,6]"
   ]
  },
  {
   "cell_type": "code",
   "execution_count": 9,
   "id": "53b5a957",
   "metadata": {},
   "outputs": [],
   "source": [
    "for i,direc in zip(all_data,dirs):\n",
    "    all_data[i] = unpickle(CIFAR_DIR+direc)"
   ]
  },
  {
   "cell_type": "code",
   "execution_count": 10,
   "id": "a0642b08",
   "metadata": {},
   "outputs": [],
   "source": [
    "batch_meta = all_data[0]\n",
    "data_batch1 = all_data[1]\n",
    "data_batch2 = all_data[2]\n",
    "data_batch3 = all_data[3]\n",
    "data_batch4 = all_data[4]\n",
    "data_batch5 = all_data[5]\n",
    "test_batch = all_data[6]"
   ]
  },
  {
   "cell_type": "code",
   "execution_count": 11,
   "id": "93fc738c",
   "metadata": {},
   "outputs": [
    {
     "data": {
      "text/plain": [
       "{b'num_cases_per_batch': 10000,\n",
       " b'label_names': [b'airplane',\n",
       "  b'automobile',\n",
       "  b'bird',\n",
       "  b'cat',\n",
       "  b'deer',\n",
       "  b'dog',\n",
       "  b'frog',\n",
       "  b'horse',\n",
       "  b'ship',\n",
       "  b'truck'],\n",
       " b'num_vis': 3072}"
      ]
     },
     "execution_count": 11,
     "metadata": {},
     "output_type": "execute_result"
    }
   ],
   "source": [
    "batch_meta"
   ]
  },
  {
   "cell_type": "code",
   "execution_count": null,
   "id": "6d031d45",
   "metadata": {},
   "outputs": [],
   "source": [
    "#** Why the 'b's in front of the string? **\n",
    "#Bytes literals are always prefixed with 'b' or 'B'; they produce an instance of the bytes type instead of the str type. They may only contain ASCII characters; bytes with a numeric value of 128 or greater must be expressed with escapes.\n",
    "\n",
    "#https://stackoverflow.com/questions/6269765/what-does-the-b-character-do-in-front-of-a-string-literal"
   ]
  },
  {
   "cell_type": "code",
   "execution_count": 12,
   "id": "7e4c4a5d",
   "metadata": {},
   "outputs": [
    {
     "data": {
      "text/plain": [
       "dict_keys([b'batch_label', b'labels', b'data', b'filenames'])"
      ]
     },
     "execution_count": 12,
     "metadata": {},
     "output_type": "execute_result"
    }
   ],
   "source": [
    "data_batch1.keys()"
   ]
  },
  {
   "cell_type": "code",
   "execution_count": 42,
   "id": "4c4b2092",
   "metadata": {},
   "outputs": [],
   "source": [
    "#Loaded in this way, each of the batch files contains a dictionary with the following elements:\n",
    "#* data -- a 10000x3072 numpy array of uint8s. Each row of the array stores a 32x32 colour image. \n",
    "#The first 1024 entries contain the red channel values, the next 1024 the green, and the final 1024 the blue.\n",
    "#The image is stored in row-major order, so that the first 32 entries of the array are the red channel values of the first \n",
    "#row of the image.\n",
    "\n",
    "#* labels -- a list of 10000 numbers in the range 0-9. The number at index i indicates the label of the ith image in the array data.\n",
    "\n",
    "#The dataset contains another file, called batches.meta. It too contains a Python dictionary object. It has the following entries:\n",
    "\n",
    "#* label_names -- a 10-element list which gives meaningful names to the numeric labels in the labels array described above. \n",
    "#For example, label_names[0] == \"airplane\", label_names[1] == \"automobile\", etc."
   ]
  },
  {
   "cell_type": "code",
   "execution_count": 13,
   "id": "78ee6d4a",
   "metadata": {},
   "outputs": [],
   "source": [
    "### Display a single image using matplotlib.\n",
    "\n",
    "##** Grab a single image from data_batch1 and \n",
    "\n",
    "import matplotlib.pyplot as plt\n",
    "%matplotlib inline\n",
    "\n",
    "import numpy as np"
   ]
  },
  {
   "cell_type": "code",
   "execution_count": 14,
   "id": "7fdcde64",
   "metadata": {},
   "outputs": [],
   "source": [
    "X = data_batch1[b\"data\"] "
   ]
  },
  {
   "cell_type": "code",
   "execution_count": 15,
   "id": "dc821a03",
   "metadata": {},
   "outputs": [],
   "source": [
    "#10000 images, 32x32 picture, and in 3 bits of color..\n",
    "X = X.reshape(10000, 3, 32, 32).transpose(0,2,3,1).astype(\"uint8\")"
   ]
  },
  {
   "cell_type": "code",
   "execution_count": 57,
   "id": "eab7066a",
   "metadata": {},
   "outputs": [
    {
     "data": {
      "text/plain": [
       "255"
      ]
     },
     "execution_count": 57,
     "metadata": {},
     "output_type": "execute_result"
    }
   ],
   "source": [
    "\n",
    "X[0].max()"
   ]
  },
  {
   "cell_type": "code",
   "execution_count": 17,
   "id": "3ecc8079",
   "metadata": {},
   "outputs": [
    {
     "data": {
      "text/plain": [
       "1.0"
      ]
     },
     "execution_count": 17,
     "metadata": {},
     "output_type": "execute_result"
    }
   ],
   "source": [
    "(X[0]/255).max()"
   ]
  },
  {
   "cell_type": "code",
   "execution_count": 18,
   "id": "1f38c145",
   "metadata": {},
   "outputs": [
    {
     "data": {
      "text/plain": [
       "<matplotlib.image.AxesImage at 0x196672f4810>"
      ]
     },
     "execution_count": 18,
     "metadata": {},
     "output_type": "execute_result"
    },
    {
     "data": {
      "image/png": "[encoded data removed]",
      "text/plain": [
       "<Figure size 640x480 with 1 Axes>"
      ]
     },
     "metadata": {},
     "output_type": "display_data"
    }
   ],
   "source": [
    "plt.imshow(X[0])"
   ]
  },
  {
   "cell_type": "code",
   "execution_count": 19,
   "id": "65d456e4",
   "metadata": {},
   "outputs": [
    {
     "data": {
      "text/plain": [
       "<matplotlib.image.AxesImage at 0x196673542d0>"
      ]
     },
     "execution_count": 19,
     "metadata": {},
     "output_type": "execute_result"
    },
    {
     "data": {
      "image/png": "[encoded data removed]",
      "text/plain": [
       "<Figure size 640x480 with 1 Axes>"
      ]
     },
     "metadata": {},
     "output_type": "display_data"
    }
   ],
   "source": [
    "plt.imshow(X[1])"
   ]
  },
  {
   "cell_type": "code",
   "execution_count": 20,
   "id": "7152ac51",
   "metadata": {},
   "outputs": [
    {
     "data": {
      "text/plain": [
       "<matplotlib.image.AxesImage at 0x1966757c8d0>"
      ]
     },
     "execution_count": 20,
     "metadata": {},
     "output_type": "execute_result"
    },
    {
     "data": {
      "image/png": "[encoded data removed]",
      "text/plain": [
       "<Figure size 640x480 with 1 Axes>"
      ]
     },
     "metadata": {},
     "output_type": "display_data"
    }
   ],
   "source": [
    "plt.imshow(X[50])"
   ]
  },
  {
   "cell_type": "code",
   "execution_count": 52,
   "id": "fbf72502",
   "metadata": {},
   "outputs": [],
   "source": [
    "# Helper Functions for Dealing With Data.\n",
    "\n",
    "#** Use the provided code below to help with dealing with grabbing the next batch once you've gotten ready to create the Graph Session.\n",
    "#Can you break down how it works? **"
   ]
  },
  {
   "cell_type": "code",
   "execution_count": 21,
   "id": "1b1b8c83",
   "metadata": {},
   "outputs": [],
   "source": [
    "#10 possible labels.. we dont look at labels as numbers like car = 1 horse = 3??\n",
    "def one_hot_encode(vec, vals=10):\n",
    "    '''\n",
    "    For use to one-hot encode the 10- possible labels\n",
    "    '''\n",
    "    n = len(vec)\n",
    "    out = np.zeros((n, vals))\n",
    "    out[range(n), vec] = 1\n",
    "    return out"
   ]
  },
  {
   "cell_type": "code",
   "execution_count": 58,
   "id": "c99d083c",
   "metadata": {},
   "outputs": [],
   "source": [
    "class CifarHelper():\n",
    "    \n",
    "    def __init__(self):\n",
    "        self.i = 0\n",
    "        \n",
    "        self.all_train_batches = [data_batch1,data_batch2,data_batch3,data_batch4,data_batch5]\n",
    "        self.test_batch = [test_batch]\n",
    "        \n",
    "        self.training_images = None\n",
    "        self.training_labels = None\n",
    "        \n",
    "        self.test_images = None\n",
    "        self.test_labels = None\n",
    "    \n",
    "    def set_up_images(self):\n",
    "        \n",
    "        print(\"Setting Up Training Images and Labels\")\n",
    "        \n",
    "        self.training_images = np.vstack([d[b\"data\"] for d in self.all_train_batches])\n",
    "        train_len = len(self.training_images)\n",
    "        \n",
    "        self.training_images = self.training_images.reshape(train_len,3,32,32).transpose(0,2,3,1)/255\n",
    "        self.training_labels = one_hot_encode(np.hstack([d[b\"labels\"] for d in self.all_train_batches]), 10)\n",
    "        \n",
    "        print(\"Setting Up Test Images and Labels\")\n",
    "        \n",
    "        self.test_images = np.vstack([d[b\"data\"] for d in self.test_batch])\n",
    "        test_len = len(self.test_images)\n",
    "        \n",
    "        self.test_images = self.test_images.reshape(test_len,3,32,32).transpose(0,2,3,1)/255\n",
    "        self.test_labels = one_hot_encode(np.hstack([d[b\"labels\"] for d in self.test_batch]), 10)\n",
    "\n",
    "#we going to look from x from 0 to 100.. jst the first 100 images instead of 1000.. and then the images will be 32x32 x3\n",
    "        \n",
    "    def next_batch(self, batch_size):\n",
    "        x = self.training_images[self.i:self.i+batch_size].reshape(100,32,32,3)\n",
    "        y = self.training_labels[self.i:self.i+batch_size]\n",
    "        self.i = (self.i + batch_size) % len(self.training_images)\n",
    "        return x, y\n",
    "#x is the photo going in and y is the label from the one hot encoder..eg if hose is 0 we get [1,0,0,0...]"
   ]
  },
  {
   "cell_type": "code",
   "execution_count": 59,
   "id": "ac88ef84",
   "metadata": {},
   "outputs": [
    {
     "name": "stdout",
     "output_type": "stream",
     "text": [
      "Setting Up Training Images and Labels\n",
      "Setting Up Test Images and Labels\n"
     ]
    }
   ],
   "source": [
    "# Before Your tf.Session run these two lines\n",
    "ch = CifarHelper()\n",
    "ch.set_up_images()\n",
    "\n",
    "# During your session to grab the next batch use this line\n",
    "# (Just like we did for mnist.train.next_batch)\n",
    "# batch = ch.next_batch(100)"
   ]
  },
  {
   "cell_type": "code",
   "execution_count": 23,
   "id": "25c0de98",
   "metadata": {},
   "outputs": [],
   "source": [
    "## Creating the Model\n",
    "\n",
    "#* Import tensorflow **\n",
    "import tensorflow as tf"
   ]
  },
  {
   "cell_type": "code",
   "execution_count": 65,
   "id": "27ced229",
   "metadata": {},
   "outputs": [],
   "source": [
    "#** Create 2 placeholders, x and y_true. Their shapes should be: **\n",
    "\n",
    "#* x shape = [None,32,32,3]\n",
    "#* y_true shape = [None,10]\n",
    "\n",
    "import tensorflow as tf\n",
    "\n",
    "# Create placeholder for input x\n",
    "x = tf.keras.Input(shape=(32, 32, 3), dtype=tf.float32)\n",
    "\n",
    "# Create placeholder for true labels y_true\n",
    "y_true = tf.keras.Input(shape=(10,), dtype=tf.float32)\n",
    "\n"
   ]
  },
  {
   "cell_type": "code",
   "execution_count": 60,
   "id": "b07ef988",
   "metadata": {},
   "outputs": [],
   "source": [
    "#** Create one more placeholder called hold_prob. No need for shape here. \n",
    "#This placeholder will just hold a single probability for the dropout. **"
   ]
  },
  {
   "cell_type": "code",
   "execution_count": 67,
   "id": "653b8afb",
   "metadata": {},
   "outputs": [],
   "source": [
    "import tensorflow as tf\n",
    "\n",
    "# Create a placeholder for hold_prob using tf.keras.Input\n",
    "\n",
    "#In this code:\n",
    "\n",
    "#hold_prob is created as an input placeholder using tf.keras.Input.\n",
    "#shape=() specifies that hold_prob is a scalar (0-dimensional tensor).\n",
    "#dtype=tf.float32 specifies the data type of hold_prob as float32.\n",
    "#Choose the approach that best fits your use case, whether it's creating a constant value (using tf.Variable) or a placeholder for input data (using tf.keras.Input).\n",
    "hold_prob = tf.keras.Input(shape=(), dtype=tf.float32)"
   ]
  },
  {
   "cell_type": "code",
   "execution_count": 26,
   "id": "9a8ea40b",
   "metadata": {},
   "outputs": [
    {
     "ename": "SyntaxError",
     "evalue": "unterminated string literal (detected at line 3) (1494755921.py, line 3)",
     "output_type": "error",
     "traceback": [
      "\u001b[1;36m  Cell \u001b[1;32mIn[26], line 3\u001b[1;36m\u001b[0m\n\u001b[1;33m    ** Grab the helper functions from MNIST with CNN (or recreate them here yourself for a hard challenge!). You'll need: **\u001b[0m\n\u001b[1;37m                                                                                                                ^\u001b[0m\n\u001b[1;31mSyntaxError\u001b[0m\u001b[1;31m:\u001b[0m unterminated string literal (detected at line 3)\n"
     ]
    }
   ],
   "source": [
    "### Helper Functions\n",
    "\n",
    "** Grab the helper functions from MNIST with CNN (or recreate them here yourself for a hard challenge!). You'll need: **\n",
    "\n",
    "* init_weights\n",
    "* init_bias\n",
    "* conv2d\n",
    "* max_pool_2by2\n",
    "* convolutional_layer\n",
    "* normal_full_layer"
   ]
  },
  {
   "cell_type": "code",
   "execution_count": 68,
   "id": "7ea1bb7c",
   "metadata": {},
   "outputs": [],
   "source": [
    "def init_weights(shape):\n",
    "    init_random_dist = tf.truncated_normal(shape, stddev=0.1)\n",
    "    return tf.Variable(init_random_dist)\n",
    "\n",
    "def init_bias(shape):\n",
    "    init_bias_vals = tf.constant(0.1, shape=shape)\n",
    "    return tf.Variable(init_bias_vals)\n",
    "\n",
    "\n",
    "#data coming is 32x32x3.. \n",
    "def conv2d(x, W):\n",
    "    return tf.nn.conv2d(x, W, strides=[1, 1, 1, 1], padding='SAME')\n",
    "\n",
    "def max_pool_2by2(x):\n",
    "    return tf.nn.max_pool(x, ksize=[1, 2, 2, 1],\n",
    "                          strides=[1, 2, 2, 1], padding='SAME')\n",
    "\n",
    "def convolutional_layer(input_x, shape):\n",
    "    W = init_weights(shape)\n",
    "    b = init_bias([shape[3]])\n",
    "    return tf.nn.relu(conv2d(input_x, W) + b)\n",
    "\n",
    "def normal_full_layer(input_layer, size):\n",
    "    input_size = int(input_layer.get_shape()[1])\n",
    "    W = init_weights([input_size, size])\n",
    "    b = init_bias([size])\n",
    "    return tf.matmul(input_layer, W) + b"
   ]
  },
  {
   "cell_type": "code",
   "execution_count": 71,
   "id": "b917bb3c",
   "metadata": {},
   "outputs": [
    {
     "ename": "AttributeError",
     "evalue": "module 'tensorflow' has no attribute 'truncated_normal'",
     "output_type": "error",
     "traceback": [
      "\u001b[1;31m---------------------------------------------------------------------------\u001b[0m",
      "\u001b[1;31mAttributeError\u001b[0m                            Traceback (most recent call last)",
      "Cell \u001b[1;32mIn[71], line 7\u001b[0m\n\u001b[0;32m      1\u001b[0m \u001b[38;5;66;03m### Create the Layers\u001b[39;00m\n\u001b[0;32m      2\u001b[0m \n\u001b[0;32m      3\u001b[0m \u001b[38;5;66;03m#** Create a convolutional layer and a pooling layer as we did for MNIST. **\u001b[39;00m\n\u001b[0;32m      4\u001b[0m \u001b[38;5;66;03m#** Its up to you what the 2d size of the convolution should be, but the last two digits need to be 3 and 32 because of the \u001b[39;00m\n\u001b[0;32m      5\u001b[0m \u001b[38;5;66;03m#3 color channels and 32 pixels. So for example you could use:**\u001b[39;00m\n\u001b[1;32m----> 7\u001b[0m convo_1 \u001b[38;5;241m=\u001b[39m convolutional_layer(x,shape\u001b[38;5;241m=\u001b[39m[\u001b[38;5;241m4\u001b[39m,\u001b[38;5;241m4\u001b[39m,\u001b[38;5;241m3\u001b[39m,\u001b[38;5;241m32\u001b[39m])\n",
      "Cell \u001b[1;32mIn[68], line 19\u001b[0m, in \u001b[0;36mconvolutional_layer\u001b[1;34m(input_x, shape)\u001b[0m\n\u001b[0;32m     18\u001b[0m \u001b[38;5;28;01mdef\u001b[39;00m \u001b[38;5;21mconvolutional_layer\u001b[39m(input_x, shape):\n\u001b[1;32m---> 19\u001b[0m     W \u001b[38;5;241m=\u001b[39m init_weights(shape)\n\u001b[0;32m     20\u001b[0m     b \u001b[38;5;241m=\u001b[39m init_bias([shape[\u001b[38;5;241m3\u001b[39m]])\n\u001b[0;32m     21\u001b[0m     \u001b[38;5;28;01mreturn\u001b[39;00m tf\u001b[38;5;241m.\u001b[39mnn\u001b[38;5;241m.\u001b[39mrelu(conv2d(input_x, W) \u001b[38;5;241m+\u001b[39m b)\n",
      "Cell \u001b[1;32mIn[68], line 2\u001b[0m, in \u001b[0;36minit_weights\u001b[1;34m(shape)\u001b[0m\n\u001b[0;32m      1\u001b[0m \u001b[38;5;28;01mdef\u001b[39;00m \u001b[38;5;21minit_weights\u001b[39m(shape):\n\u001b[1;32m----> 2\u001b[0m     init_random_dist \u001b[38;5;241m=\u001b[39m tf\u001b[38;5;241m.\u001b[39mtruncated_normal(shape, stddev\u001b[38;5;241m=\u001b[39m\u001b[38;5;241m0.1\u001b[39m)\n\u001b[0;32m      3\u001b[0m     \u001b[38;5;28;01mreturn\u001b[39;00m tf\u001b[38;5;241m.\u001b[39mVariable(init_random_dist)\n",
      "\u001b[1;31mAttributeError\u001b[0m: module 'tensorflow' has no attribute 'truncated_normal'"
     ]
    }
   ],
   "source": [
    "### Create the Layers\n",
    "\n",
    "#** Create a convolutional layer and a pooling layer as we did for MNIST. **\n",
    "#** Its up to you what the 2d size of the convolution should be, but the last two digits need to be 3 and 32 because of the \n",
    "#3 color channels and 32 pixels. So for example you could use:**\n",
    "\n",
    "convo_1 = convolutional_layer(x,shape=[4,4,3,32])"
   ]
  },
  {
   "cell_type": "code",
   "execution_count": 90,
   "id": "e4eb4d7e",
   "metadata": {},
   "outputs": [],
   "source": [
    "from tensorflow.keras.layers import Conv2D\n",
    "\n",
    "def convolutional_layer(input_layer, filters, kernel_size, activation='relu'):\n",
    "    # Create a convolutional layer using Keras\n",
    "    conv_layer = Conv2D(filters=filters, kernel_size=kernel_size, activation=activation, padding='same')\n",
    "    \n",
    "    # Apply the convolutional layer to the input\n",
    "    output = conv_layer(input_layer)\n",
    "    \n",
    "    return output"
   ]
  },
  {
   "cell_type": "code",
   "execution_count": 91,
   "id": "d4b1d4ef",
   "metadata": {},
   "outputs": [],
   "source": [
    "from tensorflow.keras.layers import MaxPooling2D\n",
    "\n",
    "def max_pool_2by2(x):\n",
    "    # Create a MaxPooling2D layer\n",
    "    pooling_layer = MaxPooling2D(pool_size=(2, 2), strides=(2, 2), padding='same')\n",
    "    # Apply max pooling to the input\n",
    "    output = pooling_layer(x)\n",
    "    return output"
   ]
  },
  {
   "cell_type": "code",
   "execution_count": 93,
   "id": "7ea861cc",
   "metadata": {},
   "outputs": [],
   "source": [
    "from tensorflow.keras.layers import Conv2D, MaxPooling2D\n",
    "\n",
    "convo_1 = convolutional_layer(x, filters=32, kernel_size=(4, 4))\n",
    "convo_1_pooling = max_pool_2by2(convo_1)"
   ]
  },
  {
   "cell_type": "code",
   "execution_count": null,
   "id": "1b9fac6e",
   "metadata": {},
   "outputs": [],
   "source": [
    "** Create the next convolutional and pooling layers.  The last two dimensions of the convo_2 layer should be 32,64 **"
   ]
  },
  {
   "cell_type": "code",
   "execution_count": 94,
   "id": "43bc846f",
   "metadata": {},
   "outputs": [],
   "source": [
    "# Assuming you have defined the convolutional_layer function\n",
    "\n",
    "# Define the second convolutional layer\n",
    "convo_2 = convolutional_layer(convo_1_pooling, filters=64, kernel_size=(4, 4))\n",
    "\n",
    "# Apply max pooling to the output of the second convolutional layer\n",
    "convo_2_pooling = max_pool_2by2(convo_2)"
   ]
  },
  {
   "cell_type": "code",
   "execution_count": null,
   "id": "5d7d4c96",
   "metadata": {},
   "outputs": [],
   "source": [
    "** Now create a flattened layer by reshaping the pooling layer into [-1,8 \\* 8 \\* 64] or [-1,4096] **"
   ]
  },
  {
   "cell_type": "code",
   "execution_count": 85,
   "id": "7d5d2fd1",
   "metadata": {},
   "outputs": [
    {
     "data": {
      "text/plain": [
       "4096"
      ]
     },
     "execution_count": 85,
     "metadata": {},
     "output_type": "execute_result"
    }
   ],
   "source": [
    "8*8*64"
   ]
  },
  {
   "cell_type": "code",
   "execution_count": 101,
   "id": "8645773c",
   "metadata": {},
   "outputs": [],
   "source": [
    "from tensorflow.keras import layers\n",
    "\n",
    "# Reshape the Keras tensor using Keras functions\n",
    "from tensorflow.keras import layers\n",
    "\n",
    "# Reshape the Keras tensor using Keras functions\n",
    "convo_2_flat = layers.Reshape((-1, 8 * 8 * 64))(convo_2_pooling)"
   ]
  },
  {
   "cell_type": "code",
   "execution_count": null,
   "id": "e064630a",
   "metadata": {},
   "outputs": [],
   "source": [
    "** Create a new full layer using the normal_full_layer function and passing \n",
    "in your flattend convolutional 2 layer with size=1024. (You could also choose to reduce this to something like 512)**"
   ]
  },
  {
   "cell_type": "code",
   "execution_count": 96,
   "id": "caebec33",
   "metadata": {},
   "outputs": [],
   "source": [
    "from tensorflow.keras import layers\n",
    "\n",
    "# Assuming normal_full_layer is a custom function that creates a fully connected layer\n",
    "# Define the fully connected layer using Keras layers\n",
    "full_layer_one = layers.Dense(1024, activation='relu')(convo_2_flat)"
   ]
  },
  {
   "cell_type": "code",
   "execution_count": null,
   "id": "1a73b25b",
   "metadata": {},
   "outputs": [],
   "source": [
    "** Now create the dropout layer with tf.nn.dropout, remember to pass in your hold_prob placeholder. **"
   ]
  },
  {
   "cell_type": "code",
   "execution_count": 102,
   "id": "8dd8b7a8",
   "metadata": {},
   "outputs": [],
   "source": [
    "from tensorflow.keras.layers import Dropout\n",
    "\n",
    "# Define the dropout layer using Keras layers\n",
    "full_one_dropout = Dropout(rate=0.1)(full_layer_one)"
   ]
  },
  {
   "cell_type": "code",
   "execution_count": null,
   "id": "ff6e0173",
   "metadata": {},
   "outputs": [],
   "source": [
    "** Finally set the output to y_pred by passing in the dropout layer into the normal_full_layer function. \n",
    "The size should be 10 because of the 10 possible labels**"
   ]
  },
  {
   "cell_type": "code",
   "execution_count": 103,
   "id": "49d86ab0",
   "metadata": {},
   "outputs": [
    {
     "data": {
      "text/plain": [
       "<KerasTensor shape=(None, 10), dtype=float32, sparse=False, name=keras_tensor_53>"
      ]
     },
     "execution_count": 103,
     "metadata": {},
     "output_type": "execute_result"
    }
   ],
   "source": [
    "from tensorflow.keras.layers import Dense\n",
    "\n",
    "# Define the fully connected layer using Keras layers\n",
    "y_pred = Dense(units=10, activation='softmax')(full_one_dropout)\n",
    "y_pred"
   ]
  },
  {
   "cell_type": "code",
   "execution_count": null,
   "id": "ddd93877",
   "metadata": {},
   "outputs": [],
   "source": [
    "### Loss Function\n",
    "\n",
    "** Create a cross_entropy loss function **"
   ]
  },
  {
   "cell_type": "code",
   "execution_count": 128,
   "id": "462579cc",
   "metadata": {},
   "outputs": [],
   "source": [
    "from tensorflow.keras.optimizers import Adam\n",
    "\n",
    "optimizer = Adam(learning_rate=0.001)"
   ]
  },
  {
   "cell_type": "code",
   "execution_count": 133,
   "id": "aa6086bb",
   "metadata": {},
   "outputs": [],
   "source": [
    "import tensorflow as tf\n",
    "from tensorflow.keras.models import Model\n",
    "from tensorflow.keras.layers import Dense, Input\n",
    "\n",
    "# Define the input shape\n",
    "input_shape = (64, 64, 3)  # Example input shape\n",
    "num_classes = 10  # Example number of classes\n",
    "\n",
    "# Define your model\n",
    "inputs = Input(shape=input_shape)\n",
    "outputs = Dense(num_classes, activation='softmax')(inputs)\n",
    "model = Model(inputs=inputs, outputs=outputs)"
   ]
  },
  {
   "cell_type": "code",
   "execution_count": 122,
   "id": "355a85db",
   "metadata": {},
   "outputs": [],
   "source": [
    "import tensorflow as tf\n",
    "from tensorflow.keras.models import Model\n",
    "from tensorflow.keras.layers import Input, Dense\n",
    "\n",
    "# Define the input shape\n",
    "input_shape = (64, 64, 3)  # Assuming input images of size 64x64 with 3 color channels\n",
    "\n",
    "# Define the input tensor\n",
    "input_tensor = Input(shape=input_shape)\n",
    "\n",
    "# Define the layers of your model\n",
    "# Example layers...\n",
    "conv1 = Conv2D(filters=32, kernel_size=(3, 3), activation='relu')(input_tensor)\n",
    "# Add more layers...\n",
    "\n",
    "# Define the output tensor\n",
    "# Example output...\n",
    "output_tensor = Dense(10, activation='softmax')(conv1)  # Assuming 10 classes for classification\n",
    "\n",
    "# Define your model\n",
    "model = Model(inputs=input_tensor, outputs=output_tensor)"
   ]
  },
  {
   "cell_type": "code",
   "execution_count": 134,
   "id": "b3657ed0",
   "metadata": {},
   "outputs": [],
   "source": [
    "from tensorflow.keras.optimizers import Adam\n",
    "\n",
    "# Define the optimizer\n",
    "optimizer = Adam(learning_rate=0.001)\n",
    "\n",
    "# Compile the model with the optimizer\n",
    "model.compile(optimizer=optimizer, loss='categorical_crossentropy', metrics=['accuracy'])"
   ]
  },
  {
   "cell_type": "code",
   "execution_count": null,
   "id": "1d1834db",
   "metadata": {},
   "outputs": [],
   "source": []
  }
 ],
 "metadata": {
  "kernelspec": {
   "display_name": "Python 3 (ipykernel)",
   "language": "python",
   "name": "python3"
  },
  "language_info": {
   "codemirror_mode": {
    "name": "ipython",
    "version": 3
   },
   "file_extension": ".py",
   "mimetype": "text/x-python",
   "name": "python",
   "nbconvert_exporter": "python",
   "pygments_lexer": "ipython3",
   "version": "3.11.5"
  }
 },
 "nbformat": 4,
 "nbformat_minor": 5
}
